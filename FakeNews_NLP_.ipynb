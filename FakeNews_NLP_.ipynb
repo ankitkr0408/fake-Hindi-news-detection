{
  "nbformat": 4,
  "nbformat_minor": 0,
  "metadata": {
    "colab": {
      "provenance": []
    },
    "kernelspec": {
      "name": "python3",
      "display_name": "Python 3"
    },
    "language_info": {
      "name": "python"
    }
  },
  "cells": [
    {
      "cell_type": "markdown",
      "source": [
        "**STEP 1 : Load the dataset**"
      ],
      "metadata": {
        "id": "7mZrQCtXg9KP"
      }
    },
    {
      "cell_type": "code",
      "source": [
        "from google.colab import drive\n",
        "drive.mount('/content/drive')"
      ],
      "metadata": {
        "colab": {
          "base_uri": "https://localhost:8080/"
        },
        "id": "FW1sGqoONJ-3",
        "outputId": "7c152b62-916c-493e-8ba9-63d449d0ee66"
      },
      "execution_count": null,
      "outputs": [
        {
          "output_type": "stream",
          "name": "stdout",
          "text": [
            "Mounted at /content/drive\n"
          ]
        }
      ]
    },
    {
      "cell_type": "code",
      "source": [
        "import json\n",
        "import pandas as pd\n",
        "\n",
        "# Load fake news dataset\n",
        "with open('/content/drive/MyDrive/NLP Mini Project/fake_news-all.json') as f:\n",
        "    fake_news = json.load(f)\n",
        "    fake_news_df = pd.json_normalize(fake_news, 'fake_news')  # Ensure 'fake_news' is the correct key\n",
        "\n",
        "# Load true news dataset\n",
        "with open('/content/drive/MyDrive/NLP Mini Project/true_news_all_dirty.json') as f:\n",
        "    true_news = json.load(f)\n",
        "    true_news_df = pd.json_normalize(true_news, 'true_news')  # Ensure 'true_news' is the correct key\n",
        "\n",
        "# Add labels (1 = True News, 0 = Fake News)\n",
        "fake_news_df[\"label\"] = 0\n",
        "true_news_df[\"label\"] = 1\n",
        "\n",
        "# Merge both datasets\n",
        "df = pd.concat([fake_news_df, true_news_df], ignore_index=True)\n",
        "\n",
        "print(df.head())\n",
        "print(df.info())"
      ],
      "metadata": {
        "colab": {
          "base_uri": "https://localhost:8080/"
        },
        "id": "0RROeIxgxMHh",
        "outputId": "f596dc78-c08a-4244-c2cf-e2441773826a",
        "collapsed": true
      },
      "execution_count": null,
      "outputs": [
        {
          "output_type": "stream",
          "name": "stdout",
          "text": [
            "                                                 url  \\\n",
            "0  https://hindi.boomlive.in/fact-check/imran-kha...   \n",
            "1  https://hindi.boomlive.in/fact-check/hindi-imp...   \n",
            "2  https://hindi.boomlive.in/fact-check/pm-narend...   \n",
            "3  https://hindi.boomlive.in/fact-check/rajnath-s...   \n",
            "4  https://hindi.boomlive.in/fact-check/balakot-s...   \n",
            "\n",
            "                                   short_description  \\\n",
            "0  बूम ने पाया कि इमरान खान भारत सरकार की आलोचना ...   \n",
            "1  सिख समुदाय के कुछ लोगों को हिंदी साइन बोर्ड पर...   \n",
            "2  सोशल मीडिया प्लेटफ़ॉर्म फ़ेसबुक और ट्विटर पर इस ...   \n",
            "3  दावा है कि भाजपा के नेताओं ने माना है कि सरकार...   \n",
            "4  मीडिया आउटलेट्स और वायर एजेंसी ने गलत तरीके से...   \n",
            "\n",
            "                                          full_title  \\\n",
            "0  इमरान खान के क्रॉप्ड वीडियो का दावा- भारत में ...   \n",
            "1  हिंदी में लिखे साइन बोर्ड पर कालिख पोतने की ये...   \n",
            "2  जनसंख्या नियंत्रण क़ानून के दावे के साथ पीएम मो...   \n",
            "3  राजनाथ सिंह का दो साल पुराना वीडियो फिर हुआ वायरल   \n",
            "4  ए.एन.आई, अन्य मीडिया संस्थानों ने बालाकोट पर क...   \n",
            "\n",
            "                                    long_description  label name short_desc  \n",
            "0  A video is viral with the claim that Pakistan ...      0  NaN        NaN  \n",
            "1  सिख समुदाय के कुछ लोगों को हिंदी साइन बोर्ड पर...      0  NaN        NaN  \n",
            "2  प्रधानमंत्री नरेंद्र मोदी की एक़ तस्वीर सोशल मी...      0  NaN        NaN  \n",
            "3                                                NaN      0  NaN        NaN  \n",
            "4  न्यूज़ संस्थान एशियन न्यूज़ इंटरनेशनल के साथ साथ...      0  NaN        NaN  \n",
            "<class 'pandas.core.frame.DataFrame'>\n",
            "RangeIndex: 2143 entries, 0 to 2142\n",
            "Data columns (total 7 columns):\n",
            " #   Column             Non-Null Count  Dtype \n",
            "---  ------             --------------  ----- \n",
            " 0   url                2023 non-null   object\n",
            " 1   short_description  1250 non-null   object\n",
            " 2   full_title         1688 non-null   object\n",
            " 3   long_description   1684 non-null   object\n",
            " 4   label              2143 non-null   int64 \n",
            " 5   name               893 non-null    object\n",
            " 6   short_desc         760 non-null    object\n",
            "dtypes: int64(1), object(6)\n",
            "memory usage: 117.3+ KB\n",
            "None\n"
          ]
        }
      ]
    },
    {
      "cell_type": "markdown",
      "source": [
        "**Section 2: Perform Exploratory Data Analysis (EDA)**"
      ],
      "metadata": {
        "id": "92Si54kIxTUP"
      }
    },
    {
      "cell_type": "code",
      "source": [
        "import matplotlib.pyplot as plt\n",
        "import seaborn as sns\n",
        "\n",
        "\n",
        "print(df.head())\n",
        "\n",
        "# Identify missing values\n",
        "print(\"\\nMissing Values:\\n\", df.isnull().sum())\n",
        "\n",
        "\n",
        "text_columns = [\"long_description\", \"short_description\", \"full_title\", \"short_desc\"]\n",
        "for col in text_columns:\n",
        "    print(f\"\\nSample values from {col}:\")\n",
        "    print(df[col].dropna().head())\n",
        "\n",
        "# Selecting 'long_description' as the primary text column (modify if needed)\n",
        "df[\"text\"] = df[\"long_description\"].fillna(\"\")\n",
        "\n",
        "# Visualizing class distribution\n",
        "plt.figure(figsize=(6, 4))\n",
        "sns.countplot(x=df[\"label\"], palette='coolwarm')\n",
        "plt.xticks(ticks=[0, 1], labels=['Fake News', 'True News'])\n",
        "plt.title(\"Class Distribution\")\n",
        "plt.show()\n",
        "\n",
        "# Analyzing text lengths (number of words per news article)\n",
        "df[\"text_length\"] = df[\"text\"].apply(lambda x: len(str(x).split()))\n",
        "\n",
        "# Plotting text length distribution\n",
        "plt.figure(figsize=(8, 4))\n",
        "sns.histplot(df[\"text_length\"], bins=30, kde=True)\n",
        "plt.title(\"Text Length Distribution\")\n",
        "plt.xlabel(\"Number of Words\")\n",
        "plt.show()\n",
        "\n",
        "# Displaying basic statistics of text length\n",
        "print(\"\\nText Length Statistics:\\n\", df[\"text_length\"].describe())\n"
      ],
      "metadata": {
        "colab": {
          "base_uri": "https://localhost:8080/",
          "height": 1000
        },
        "id": "Ueq-DE_OxVp-",
        "outputId": "db24cb86-7f5b-403d-efb3-c05d2308e7b7",
        "collapsed": true
      },
      "execution_count": null,
      "outputs": [
        {
          "output_type": "stream",
          "name": "stdout",
          "text": [
            "                                                 url  \\\n",
            "0  https://hindi.boomlive.in/fact-check/imran-kha...   \n",
            "1  https://hindi.boomlive.in/fact-check/hindi-imp...   \n",
            "2  https://hindi.boomlive.in/fact-check/pm-narend...   \n",
            "3  https://hindi.boomlive.in/fact-check/rajnath-s...   \n",
            "4  https://hindi.boomlive.in/fact-check/balakot-s...   \n",
            "\n",
            "                                   short_description  \\\n",
            "0  बूम ने पाया कि इमरान खान भारत सरकार की आलोचना ...   \n",
            "1  सिख समुदाय के कुछ लोगों को हिंदी साइन बोर्ड पर...   \n",
            "2  सोशल मीडिया प्लेटफ़ॉर्म फ़ेसबुक और ट्विटर पर इस ...   \n",
            "3  दावा है कि भाजपा के नेताओं ने माना है कि सरकार...   \n",
            "4  मीडिया आउटलेट्स और वायर एजेंसी ने गलत तरीके से...   \n",
            "\n",
            "                                          full_title  \\\n",
            "0  इमरान खान के क्रॉप्ड वीडियो का दावा- भारत में ...   \n",
            "1  हिंदी में लिखे साइन बोर्ड पर कालिख पोतने की ये...   \n",
            "2  जनसंख्या नियंत्रण क़ानून के दावे के साथ पीएम मो...   \n",
            "3  राजनाथ सिंह का दो साल पुराना वीडियो फिर हुआ वायरल   \n",
            "4  ए.एन.आई, अन्य मीडिया संस्थानों ने बालाकोट पर क...   \n",
            "\n",
            "                                    long_description  label name short_desc  \n",
            "0  A video is viral with the claim that Pakistan ...      0  NaN        NaN  \n",
            "1  सिख समुदाय के कुछ लोगों को हिंदी साइन बोर्ड पर...      0  NaN        NaN  \n",
            "2  प्रधानमंत्री नरेंद्र मोदी की एक़ तस्वीर सोशल मी...      0  NaN        NaN  \n",
            "3                                                NaN      0  NaN        NaN  \n",
            "4  न्यूज़ संस्थान एशियन न्यूज़ इंटरनेशनल के साथ साथ...      0  NaN        NaN  \n",
            "\n",
            "Missing Values:\n",
            " url                   120\n",
            "short_description     893\n",
            "full_title            455\n",
            "long_description      459\n",
            "label                   0\n",
            "name                 1250\n",
            "short_desc           1383\n",
            "dtype: int64\n",
            "\n",
            "Sample values from long_description:\n",
            "0    A video is viral with the claim that Pakistan ...\n",
            "1    सिख समुदाय के कुछ लोगों को हिंदी साइन बोर्ड पर...\n",
            "2    प्रधानमंत्री नरेंद्र मोदी की एक़ तस्वीर सोशल मी...\n",
            "4    न्यूज़ संस्थान एशियन न्यूज़ इंटरनेशनल के साथ साथ...\n",
            "5    सोशल मीडिया पर एक धार्मिक स्थल की तस्वीर फ़र्ज़ी...\n",
            "Name: long_description, dtype: object\n",
            "\n",
            "Sample values from short_description:\n",
            "0    बूम ने पाया कि इमरान खान भारत सरकार की आलोचना ...\n",
            "1    सिख समुदाय के कुछ लोगों को हिंदी साइन बोर्ड पर...\n",
            "2    सोशल मीडिया प्लेटफ़ॉर्म फ़ेसबुक और ट्विटर पर इस ...\n",
            "3    दावा है कि भाजपा के नेताओं ने माना है कि सरकार...\n",
            "4    मीडिया आउटलेट्स और वायर एजेंसी ने गलत तरीके से...\n",
            "Name: short_description, dtype: object\n",
            "\n",
            "Sample values from full_title:\n",
            "0    इमरान खान के क्रॉप्ड वीडियो का दावा- भारत में ...\n",
            "1    हिंदी में लिखे साइन बोर्ड पर कालिख पोतने की ये...\n",
            "2    जनसंख्या नियंत्रण क़ानून के दावे के साथ पीएम मो...\n",
            "3    राजनाथ सिंह का दो साल पुराना वीडियो फिर हुआ वायरल\n",
            "4    ए.एन.आई, अन्य मीडिया संस्थानों ने बालाकोट पर क...\n",
            "Name: full_title, dtype: object\n",
            "\n",
            "Sample values from short_desc:\n",
            "1250    भारत ने ऑस्ट्रेलिया में टेस्ट सिरीज़ में ऐतिहा...\n",
            "1251    ब्रिस्बेन टेस्ट में भारत की दीवार कहे जाने वाल...\n",
            "1252    पाकिस्तानी टीवी प्रेजेंटर सैय्यद इक़रारुल हसन ...\n",
            "1253    किसी से पूछा जाए कि दिल्ली में पहली गणतंत्र दि...\n",
            "1254    वेब सिरीज़ तांडव को लेकर जारी विवाद पर आज का क...\n",
            "Name: short_desc, dtype: object\n"
          ]
        },
        {
          "output_type": "stream",
          "name": "stderr",
          "text": [
            "<ipython-input-53-3d4f1c83d0e1>:23: FutureWarning: \n",
            "\n",
            "Passing `palette` without assigning `hue` is deprecated and will be removed in v0.14.0. Assign the `x` variable to `hue` and set `legend=False` for the same effect.\n",
            "\n",
            "  sns.countplot(x=df[\"label\"], palette='coolwarm')\n"
          ]
        },
        {
          "output_type": "display_data",
          "data": {
            "text/plain": [
              "<Figure size 600x400 with 1 Axes>"
            ],
            "image/png": "[encoded data removed]"
          },
          "metadata": {}
        },
        {
          "output_type": "display_data",
          "data": {
            "text/plain": [
              "<Figure size 800x400 with 1 Axes>"
            ],
            "image/png": "[encoded data removed]"
          },
          "metadata": {}
        },
        {
          "output_type": "stream",
          "name": "stdout",
          "text": [
            "\n",
            "Text Length Statistics:\n",
            " count    2143.000000\n",
            "mean      598.556696\n",
            "std       567.414735\n",
            "min         0.000000\n",
            "25%       271.500000\n",
            "50%       510.000000\n",
            "75%       755.500000\n",
            "max      5164.000000\n",
            "Name: text_length, dtype: float64\n"
          ]
        }
      ]
    },
    {
      "cell_type": "markdown",
      "source": [
        "**Section 3: Perform Text Processing on Dataset**"
      ],
      "metadata": {
        "id": "4lr43MHgxeNu"
      }
    },
    {
      "cell_type": "code",
      "source": [
        "import re\n",
        "import nltk\n",
        "from nltk.tokenize import word_tokenize\n",
        "\n",
        "\n",
        "nltk.download('punkt')\n",
        "nltk.download('punkt_tab')\n",
        "\n",
        "# Full Hindi stopwords list\n",
        "hindi_stopwords = set([\n",
        "    'अत', 'यह', 'है', 'कि', 'को', 'के', 'हुई', 'वह', 'हुआ', 'पर', 'नहीं', 'साथ', 'में', 'से', 'कर', 'रहा', 'है',\n",
        "    'यहां', 'भी', 'उस', 'और', 'किया', 'था', 'जब', 'तथा', 'यह', 'होगा', 'लिए', 'लेकिन', 'आप', 'हो', 'की', 'ने',\n",
        "    'जिन्हें', 'तक', 'चाहिए', 'किस', 'कैसे', 'उन', 'मुझे', 'सब', 'एक', 'जैसा', 'वहीं', 'क्या', 'अंदर', 'अदि',\n",
        "    'अप', 'अपना', 'अपनि', 'अपनी', 'अपने', 'अभि', 'अभी', 'आदि', 'आप', 'इंहिं', 'इंहें', 'इंहों', 'इतयादि', 'इत्यादि',\n",
        "    'इन', 'इनका', 'इन्हीं', 'इन्हें', 'इन्हों', 'इस', 'इसका', 'इसकि', 'इसकी', 'इसके', 'इसमें', 'इसि', 'इसी', 'इसे',\n",
        "    'उंहिं', 'उंहें', 'उंहों', 'उन', 'उनका', 'उनकि', 'उनकी', 'उनके', 'उनको', 'उन्हीं', 'उन्हें', 'उन्हों', 'उस',\n",
        "    'उसके', 'उसि', 'उसी', 'उसे', 'एक', 'एवं', 'एस', 'एसे', 'ऐसे', 'ओर', 'और', 'कइ', 'कई', 'कर', 'करता', 'करते',\n",
        "    'करना', 'करने', 'करें', 'कहते', 'कहा', 'का', 'काफि', 'काफ़ी', 'कि', 'किंहें', 'किंहों', 'कितना', 'किन्हें',\n",
        "    'किन्हों', 'किया', 'किर', 'किस', 'किसि', 'किसी', 'किसे', 'की', 'कुछ', 'कुल', 'के', 'को', 'कोइ', 'कोई', 'कोन',\n",
        "    'कोनसा', 'कौन', 'कौनसा', 'गया', 'घर', 'जब', 'जहाँ', 'जहां', 'जा', 'जिंहें', 'जिंहों', 'जितना', 'जिधर', 'जिन',\n",
        "    'जिन्हें', 'जिन्हों', 'जिस', 'जिसे', 'जीधर', 'जेसा', 'जेसे', 'जैसा', 'जैसे', 'जो', 'तक', 'तब', 'तरह', 'तिंहें',\n",
        "    'तिंहों', 'तिन', 'तिन्हें', 'तिन्हों', 'तिस', 'तिसे', 'तो', 'था', 'थि', 'थी', 'थे', 'दबारा', 'दवारा', 'दिया',\n",
        "    'दुसरा', 'दुसरे', 'दूसरे', 'दो', 'द्वारा', 'न', 'नहिं', 'नहीं', 'ना', 'निचे', 'निहायत', 'नीचे', 'ने', 'पर',\n",
        "    'पहले', 'पुरा', 'पूरा', 'पे', 'फिर', 'बनि', 'बनी', 'बहि', 'बही', 'बहुत', 'बाद', 'बाला', 'बिलकुल', 'भि', 'भितर',\n",
        "    'भी', 'भीतर', 'मगर', 'मानो', 'मे', 'में', 'यदि', 'यह', 'यहाँ', 'यहां', 'यहि', 'यही', 'या', 'यिह', 'ये', 'रखें',\n",
        "    'रवासा', 'रहा', 'रहे', 'ऱ्वासा', 'लिए', 'लिये', 'लेकिन', 'व', 'वगेरह', 'वरग', 'वर्ग', 'वह', 'वहाँ', 'वहां',\n",
        "    'वहिं', 'वहीं', 'वाले', 'वुह', 'वे', 'वग़ैरह', 'संग', 'सकता', 'सकते', 'सबसे', 'सभि', 'सभी', 'साथ', 'साबुत', 'साभ',\n",
        "    'सारा', 'से', 'सो', 'हि', 'ही', 'हुअ', 'हुआ', 'हुइ', 'हुई', 'हुए', 'हे', 'हें', 'है', 'हैं', 'हो', 'होता',\n",
        "    'होति', 'होती', 'होते', 'होना', 'होने'\n",
        "])\n",
        "\n",
        "# Simple Hindi stemming function (manual rules)\n",
        "def hindi_stemmer(word):\n",
        "    suffixes = [\"ता\", \"ती\", \"ते\", \"ना\", \"ने\", \"नी\", \"ओं\", \"एं\", \"यों\", \"ाऊं\", \"ाना\", \"ाना\", \"ाऊंगा\", \"ाऊंगी\", \"एगा\", \"एगी\"]\n",
        "\n",
        "    for suffix in suffixes:\n",
        "        if word.endswith(suffix):\n",
        "            return word[:-len(suffix)]\n",
        "    return word\n",
        "\n",
        "def clean_text(text):\n",
        "    if not isinstance(text, str):\n",
        "        return \"\"  # Handle NaN or non-string values safely\n",
        "\n",
        "    text = re.sub(r'[^\\w\\s]', '', text)\n",
        "    text = re.sub(r'\\d+', '', text)\n",
        "    text = text.lower()\n",
        "\n",
        "    # Tokenization\n",
        "    tokens = word_tokenize(text)\n",
        "\n",
        "    # Stopword Removal\n",
        "    filtered_tokens = [word for word in tokens if word not in hindi_stopwords]\n",
        "\n",
        "    # Stemming\n",
        "    stemmed_tokens = [hindi_stemmer(word) for word in filtered_tokens]\n",
        "\n",
        "    return \" \".join(stemmed_tokens)\n",
        "\n",
        "# Apply cleaning function\n",
        "df['cleaned_text'] = df['text'].apply(clean_text)\n",
        "\n",
        "# Show cleaned text samples\n",
        "print(df[['text', 'cleaned_text']].head())\n"
      ],
      "metadata": {
        "colab": {
          "base_uri": "https://localhost:8080/"
        },
        "id": "D_E_xRfiximH",
        "outputId": "146f1862-e096-4bfa-e7e4-8b6f1c3004dc",
        "collapsed": true
      },
      "execution_count": null,
      "outputs": [
        {
          "output_type": "stream",
          "name": "stderr",
          "text": [
            "[nltk_data] Downloading package punkt to /root/nltk_data...\n",
            "[nltk_data]   Package punkt is already up-to-date!\n",
            "[nltk_data] Downloading package punkt_tab to /root/nltk_data...\n",
            "[nltk_data]   Package punkt_tab is already up-to-date!\n"
          ]
        },
        {
          "output_type": "stream",
          "name": "stdout",
          "text": [
            "                                                text  \\\n",
            "0  A video is viral with the claim that Pakistan ...   \n",
            "1  सिख समुदाय के कुछ लोगों को हिंदी साइन बोर्ड पर...   \n",
            "2  प्रधानमंत्री नरेंद्र मोदी की एक़ तस्वीर सोशल मी...   \n",
            "3                                                      \n",
            "4  न्यूज़ संस्थान एशियन न्यूज़ इंटरनेशनल के साथ साथ...   \n",
            "\n",
            "                                        cleaned_text  \n",
            "0  a video is viral with the claim that pakistan ...  \n",
            "1  सख समदय क कछ लग क हद सइन बरड कलख पतत दखत तसवर ...  \n",
            "2  परधनमतर नरदर मद क एक़ तसवर सशल मडय ख़ब वयरल ह तस...  \n",
            "3                                                     \n",
            "4  नयज़ ससथन एशयन नयज़ इटरनशनल क सथ सथ मखय धर क मडय...  \n"
          ]
        }
      ]
    },
    {
      "cell_type": "markdown",
      "source": [
        "**Section 4: Generate NLP-Based Features**"
      ],
      "metadata": {
        "id": "xyaFFQgUxrec"
      }
    },
    {
      "cell_type": "code",
      "source": [
        "import numpy as np\n",
        "\n",
        "def generate_nlp_features(df):\n",
        "    df['char_count'] = df['cleaned_text'].apply(len)\n",
        "    df['word_count'] = df['cleaned_text'].apply(lambda x: len(x.split()))\n",
        "    df['avg_word_length'] = df['cleaned_text'].apply(lambda x: np.mean([len(word) for word in x.split()]) if x else 0)\n",
        "    return df\n",
        "\n",
        "# Generate features\n",
        "df = generate_nlp_features(df)\n",
        "\n",
        "\n",
        "print(df[['char_count', 'word_count', 'avg_word_length']].head())\n"
      ],
      "metadata": {
        "colab": {
          "base_uri": "https://localhost:8080/"
        },
        "id": "uplzM5ocxu8S",
        "outputId": "a8bf7cd2-032f-4690-a84a-be64c7d494dd",
        "collapsed": true
      },
      "execution_count": null,
      "outputs": [
        {
          "output_type": "stream",
          "name": "stdout",
          "text": [
            "   char_count  word_count  avg_word_length\n",
            "0         147          28         4.285714\n",
            "1        2336         633         2.691943\n",
            "2        1517         406         2.738916\n",
            "3           0           0         0.000000\n",
            "4        2787         699         2.988555\n"
          ]
        }
      ]
    },
    {
      "cell_type": "markdown",
      "source": [
        "**Section 5: Feature Extraction**"
      ],
      "metadata": {
        "id": "VgJKJ69_xyNu"
      }
    },
    {
      "cell_type": "code",
      "source": [
        "pip install fasttext\n"
      ],
      "metadata": {
        "colab": {
          "base_uri": "https://localhost:8080/"
        },
        "id": "ZhydrqNeWlHM",
        "outputId": "9842f0b7-aadd-4287-e183-50fe9aee1c27"
      },
      "execution_count": null,
      "outputs": [
        {
          "output_type": "stream",
          "name": "stdout",
          "text": [
            "Requirement already satisfied: fasttext in /usr/local/lib/python3.11/dist-packages (0.9.3)\n",
            "Requirement already satisfied: pybind11>=2.2 in /usr/local/lib/python3.11/dist-packages (from fasttext) (2.13.6)\n",
            "Requirement already satisfied: setuptools>=0.7.0 in /usr/local/lib/python3.11/dist-packages (from fasttext) (75.2.0)\n",
            "Requirement already satisfied: numpy in /usr/local/lib/python3.11/dist-packages (from fasttext) (2.0.2)\n"
          ]
        }
      ]
    },
    {
      "cell_type": "code",
      "source": [
        "from sklearn.feature_extraction.text import TfidfVectorizer\n",
        "\n",
        "# Initialize TF-IDF Vectorizer\n",
        "tfidf_vectorizer = TfidfVectorizer(max_features=5000, ngram_range=(1, 2))\n",
        "\n",
        "X_tfidf = tfidf_vectorizer.fit_transform(df['cleaned_text'])\n",
        "\n",
        "# Display shape of TF-IDF matrix\n",
        "print(\"TF-IDF Matrix Shape:\", X_tfidf.shape)\n",
        "\n",
        "# # Display top feature names (words)\n",
        "feature_names = tfidf_vectorizer.get_feature_names_out()\n",
        "print(\"\\nTop 10 features:\")\n",
        "print(feature_names[:10])\n",
        "\n",
        "import pandas as pd\n",
        "tfidf_df = pd.DataFrame(X_tfidf.toarray(), columns=feature_names)\n",
        "print(\"\\nPreview of TF-IDF matrix (first 5 rows):\")\n",
        "print(tfidf_df.head())  # Display first 5 rows of the matrix\n"
      ],
      "metadata": {
        "colab": {
          "base_uri": "https://localhost:8080/",
          "height": 356
        },
        "id": "KSEIe8ikxxWZ",
        "outputId": "d4412edf-0bdc-4522-a4a9-f51cf5ea389a",
        "collapsed": true
      },
      "execution_count": null,
      "outputs": [
        {
          "output_type": "error",
          "ename": "KeyboardInterrupt",
          "evalue": "",
          "traceback": [
            "\u001b[0;31m---------------------------------------------------------------------------\u001b[0m",
            "\u001b[0;31mKeyboardInterrupt\u001b[0m                         Traceback (most recent call last)",
            "\u001b[0;32m<ipython-input-1-2cc7974f15d3>\u001b[0m in \u001b[0;36m<cell line: 0>\u001b[0;34m()\u001b[0m\n\u001b[0;32m----> 1\u001b[0;31m \u001b[0;32mfrom\u001b[0m \u001b[0msklearn\u001b[0m\u001b[0;34m.\u001b[0m\u001b[0mfeature_extraction\u001b[0m\u001b[0;34m.\u001b[0m\u001b[0mtext\u001b[0m \u001b[0;32mimport\u001b[0m \u001b[0mTfidfVectorizer\u001b[0m\u001b[0;34m\u001b[0m\u001b[0;34m\u001b[0m\u001b[0m\n\u001b[0m\u001b[1;32m      2\u001b[0m \u001b[0;34m\u001b[0m\u001b[0m\n\u001b[1;32m      3\u001b[0m \u001b[0;31m# Initialize TF-IDF Vectorizer\u001b[0m\u001b[0;34m\u001b[0m\u001b[0;34m\u001b[0m\u001b[0m\n\u001b[1;32m      4\u001b[0m \u001b[0mtfidf_vectorizer\u001b[0m \u001b[0;34m=\u001b[0m \u001b[0mTfidfVectorizer\u001b[0m\u001b[0;34m(\u001b[0m\u001b[0mmax_features\u001b[0m\u001b[0;34m=\u001b[0m\u001b[0;36m5000\u001b[0m\u001b[0;34m,\u001b[0m \u001b[0mngram_range\u001b[0m\u001b[0;34m=\u001b[0m\u001b[0;34m(\u001b[0m\u001b[0;36m1\u001b[0m\u001b[0;34m,\u001b[0m \u001b[0;36m2\u001b[0m\u001b[0;34m)\u001b[0m\u001b[0;34m)\u001b[0m\u001b[0;34m\u001b[0m\u001b[0;34m\u001b[0m\u001b[0m\n\u001b[1;32m      5\u001b[0m \u001b[0;34m\u001b[0m\u001b[0m\n",
            "\u001b[0;32m/usr/local/lib/python3.11/dist-packages/sklearn/__init__.py\u001b[0m in \u001b[0;36m<module>\u001b[0;34m\u001b[0m\n\u001b[1;32m     71\u001b[0m     \u001b[0m_distributor_init\u001b[0m\u001b[0;34m,\u001b[0m\u001b[0;34m\u001b[0m\u001b[0;34m\u001b[0m\u001b[0m\n\u001b[1;32m     72\u001b[0m )\n\u001b[0;32m---> 73\u001b[0;31m \u001b[0;32mfrom\u001b[0m \u001b[0;34m.\u001b[0m\u001b[0mbase\u001b[0m \u001b[0;32mimport\u001b[0m \u001b[0mclone\u001b[0m  \u001b[0;31m# noqa: E402\u001b[0m\u001b[0;34m\u001b[0m\u001b[0;34m\u001b[0m\u001b[0m\n\u001b[0m\u001b[1;32m     74\u001b[0m \u001b[0;32mfrom\u001b[0m \u001b[0;34m.\u001b[0m\u001b[0mutils\u001b[0m\u001b[0;34m.\u001b[0m\u001b[0m_show_versions\u001b[0m \u001b[0;32mimport\u001b[0m \u001b[0mshow_versions\u001b[0m  \u001b[0;31m# noqa: E402\u001b[0m\u001b[0;34m\u001b[0m\u001b[0;34m\u001b[0m\u001b[0m\n\u001b[1;32m     75\u001b[0m \u001b[0;34m\u001b[0m\u001b[0m\n",
            "\u001b[0;32m/usr/local/lib/python3.11/dist-packages/sklearn/base.py\u001b[0m in \u001b[0;36m<module>\u001b[0;34m\u001b[0m\n\u001b[1;32m     17\u001b[0m \u001b[0;32mfrom\u001b[0m \u001b[0;34m.\u001b[0m\u001b[0m_config\u001b[0m \u001b[0;32mimport\u001b[0m \u001b[0mconfig_context\u001b[0m\u001b[0;34m,\u001b[0m \u001b[0mget_config\u001b[0m\u001b[0;34m\u001b[0m\u001b[0;34m\u001b[0m\u001b[0m\n\u001b[1;32m     18\u001b[0m \u001b[0;32mfrom\u001b[0m \u001b[0;34m.\u001b[0m\u001b[0mexceptions\u001b[0m \u001b[0;32mimport\u001b[0m \u001b[0mInconsistentVersionWarning\u001b[0m\u001b[0;34m\u001b[0m\u001b[0;34m\u001b[0m\u001b[0m\n\u001b[0;32m---> 19\u001b[0;31m \u001b[0;32mfrom\u001b[0m \u001b[0;34m.\u001b[0m\u001b[0mutils\u001b[0m\u001b[0;34m.\u001b[0m\u001b[0m_estimator_html_repr\u001b[0m \u001b[0;32mimport\u001b[0m \u001b[0m_HTMLDocumentationLinkMixin\u001b[0m\u001b[0;34m,\u001b[0m \u001b[0mestimator_html_repr\u001b[0m\u001b[0;34m\u001b[0m\u001b[0;34m\u001b[0m\u001b[0m\n\u001b[0m\u001b[1;32m     20\u001b[0m \u001b[0;32mfrom\u001b[0m \u001b[0;34m.\u001b[0m\u001b[0mutils\u001b[0m\u001b[0;34m.\u001b[0m\u001b[0m_metadata_requests\u001b[0m \u001b[0;32mimport\u001b[0m \u001b[0m_MetadataRequester\u001b[0m\u001b[0;34m,\u001b[0m \u001b[0m_routing_enabled\u001b[0m\u001b[0;34m\u001b[0m\u001b[0;34m\u001b[0m\u001b[0m\n\u001b[1;32m     21\u001b[0m \u001b[0;32mfrom\u001b[0m \u001b[0;34m.\u001b[0m\u001b[0mutils\u001b[0m\u001b[0;34m.\u001b[0m\u001b[0m_param_validation\u001b[0m \u001b[0;32mimport\u001b[0m \u001b[0mvalidate_parameter_constraints\u001b[0m\u001b[0;34m\u001b[0m\u001b[0;34m\u001b[0m\u001b[0m\n",
            "\u001b[0;32m/usr/local/lib/python3.11/dist-packages/sklearn/utils/__init__.py\u001b[0m in \u001b[0;36m<module>\u001b[0;34m\u001b[0m\n\u001b[1;32m     13\u001b[0m \u001b[0;32mfrom\u001b[0m \u001b[0;34m.\u001b[0m \u001b[0;32mimport\u001b[0m \u001b[0m_joblib\u001b[0m\u001b[0;34m,\u001b[0m \u001b[0mmetadata_routing\u001b[0m\u001b[0;34m\u001b[0m\u001b[0;34m\u001b[0m\u001b[0m\n\u001b[1;32m     14\u001b[0m \u001b[0;32mfrom\u001b[0m \u001b[0;34m.\u001b[0m\u001b[0m_bunch\u001b[0m \u001b[0;32mimport\u001b[0m \u001b[0mBunch\u001b[0m\u001b[0;34m\u001b[0m\u001b[0;34m\u001b[0m\u001b[0m\n\u001b[0;32m---> 15\u001b[0;31m \u001b[0;32mfrom\u001b[0m \u001b[0;34m.\u001b[0m\u001b[0m_chunking\u001b[0m \u001b[0;32mimport\u001b[0m \u001b[0mgen_batches\u001b[0m\u001b[0;34m,\u001b[0m \u001b[0mgen_even_slices\u001b[0m\u001b[0;34m\u001b[0m\u001b[0;34m\u001b[0m\u001b[0m\n\u001b[0m\u001b[1;32m     16\u001b[0m \u001b[0;32mfrom\u001b[0m \u001b[0;34m.\u001b[0m\u001b[0m_estimator_html_repr\u001b[0m \u001b[0;32mimport\u001b[0m \u001b[0mestimator_html_repr\u001b[0m\u001b[0;34m\u001b[0m\u001b[0;34m\u001b[0m\u001b[0m\n\u001b[1;32m     17\u001b[0m \u001b[0;34m\u001b[0m\u001b[0m\n",
            "\u001b[0;32m/usr/local/lib/python3.11/dist-packages/sklearn/utils/_chunking.py\u001b[0m in \u001b[0;36m<module>\u001b[0;34m\u001b[0m\n\u001b[1;32m      9\u001b[0m \u001b[0;34m\u001b[0m\u001b[0m\n\u001b[1;32m     10\u001b[0m \u001b[0;32mfrom\u001b[0m \u001b[0;34m.\u001b[0m\u001b[0;34m.\u001b[0m\u001b[0m_config\u001b[0m \u001b[0;32mimport\u001b[0m \u001b[0mget_config\u001b[0m\u001b[0;34m\u001b[0m\u001b[0;34m\u001b[0m\u001b[0m\n\u001b[0;32m---> 11\u001b[0;31m \u001b[0;32mfrom\u001b[0m \u001b[0;34m.\u001b[0m\u001b[0m_param_validation\u001b[0m \u001b[0;32mimport\u001b[0m \u001b[0mInterval\u001b[0m\u001b[0;34m,\u001b[0m \u001b[0mvalidate_params\u001b[0m\u001b[0;34m\u001b[0m\u001b[0;34m\u001b[0m\u001b[0m\n\u001b[0m\u001b[1;32m     12\u001b[0m \u001b[0;34m\u001b[0m\u001b[0m\n\u001b[1;32m     13\u001b[0m \u001b[0;34m\u001b[0m\u001b[0m\n",
            "\u001b[0;32m/usr/local/lib/python3.11/dist-packages/sklearn/utils/_param_validation.py\u001b[0m in \u001b[0;36m<module>\u001b[0;34m\u001b[0m\n\u001b[1;32m     15\u001b[0m \u001b[0;34m\u001b[0m\u001b[0m\n\u001b[1;32m     16\u001b[0m \u001b[0;32mfrom\u001b[0m \u001b[0;34m.\u001b[0m\u001b[0;34m.\u001b[0m\u001b[0m_config\u001b[0m \u001b[0;32mimport\u001b[0m \u001b[0mconfig_context\u001b[0m\u001b[0;34m,\u001b[0m \u001b[0mget_config\u001b[0m\u001b[0;34m\u001b[0m\u001b[0;34m\u001b[0m\u001b[0m\n\u001b[0;32m---> 17\u001b[0;31m \u001b[0;32mfrom\u001b[0m \u001b[0;34m.\u001b[0m\u001b[0mvalidation\u001b[0m \u001b[0;32mimport\u001b[0m \u001b[0m_is_arraylike_not_scalar\u001b[0m\u001b[0;34m\u001b[0m\u001b[0;34m\u001b[0m\u001b[0m\n\u001b[0m\u001b[1;32m     18\u001b[0m \u001b[0;34m\u001b[0m\u001b[0m\n\u001b[1;32m     19\u001b[0m \u001b[0;34m\u001b[0m\u001b[0m\n",
            "\u001b[0;32m/usr/local/lib/python3.11/dist-packages/sklearn/utils/validation.py\u001b[0m in \u001b[0;36m<module>\u001b[0;34m\u001b[0m\n\u001b[1;32m     19\u001b[0m \u001b[0;32mfrom\u001b[0m \u001b[0;34m.\u001b[0m\u001b[0;34m.\u001b[0m \u001b[0;32mimport\u001b[0m \u001b[0mget_config\u001b[0m \u001b[0;32mas\u001b[0m \u001b[0m_get_config\u001b[0m\u001b[0;34m\u001b[0m\u001b[0;34m\u001b[0m\u001b[0m\n\u001b[1;32m     20\u001b[0m \u001b[0;32mfrom\u001b[0m \u001b[0;34m.\u001b[0m\u001b[0;34m.\u001b[0m\u001b[0mexceptions\u001b[0m \u001b[0;32mimport\u001b[0m \u001b[0mDataConversionWarning\u001b[0m\u001b[0;34m,\u001b[0m \u001b[0mNotFittedError\u001b[0m\u001b[0;34m,\u001b[0m \u001b[0mPositiveSpectrumWarning\u001b[0m\u001b[0;34m\u001b[0m\u001b[0;34m\u001b[0m\u001b[0m\n\u001b[0;32m---> 21\u001b[0;31m \u001b[0;32mfrom\u001b[0m \u001b[0;34m.\u001b[0m\u001b[0;34m.\u001b[0m\u001b[0mutils\u001b[0m\u001b[0;34m.\u001b[0m\u001b[0m_array_api\u001b[0m \u001b[0;32mimport\u001b[0m \u001b[0m_asarray_with_order\u001b[0m\u001b[0;34m,\u001b[0m \u001b[0m_is_numpy_namespace\u001b[0m\u001b[0;34m,\u001b[0m \u001b[0mget_namespace\u001b[0m\u001b[0;34m\u001b[0m\u001b[0;34m\u001b[0m\u001b[0m\n\u001b[0m\u001b[1;32m     22\u001b[0m \u001b[0;32mfrom\u001b[0m \u001b[0;34m.\u001b[0m\u001b[0;34m.\u001b[0m\u001b[0mutils\u001b[0m\u001b[0;34m.\u001b[0m\u001b[0mdeprecation\u001b[0m \u001b[0;32mimport\u001b[0m \u001b[0m_deprecate_force_all_finite\u001b[0m\u001b[0;34m\u001b[0m\u001b[0;34m\u001b[0m\u001b[0m\n\u001b[1;32m     23\u001b[0m \u001b[0;32mfrom\u001b[0m \u001b[0;34m.\u001b[0m\u001b[0;34m.\u001b[0m\u001b[0mutils\u001b[0m\u001b[0;34m.\u001b[0m\u001b[0mfixes\u001b[0m \u001b[0;32mimport\u001b[0m \u001b[0mComplexWarning\u001b[0m\u001b[0;34m,\u001b[0m \u001b[0m_preserve_dia_indices_dtype\u001b[0m\u001b[0;34m\u001b[0m\u001b[0;34m\u001b[0m\u001b[0m\n",
            "\u001b[0;32m/usr/local/lib/python3.11/dist-packages/sklearn/utils/_array_api.py\u001b[0m in \u001b[0;36m<module>\u001b[0;34m\u001b[0m\n\u001b[1;32m     15\u001b[0m \u001b[0;34m\u001b[0m\u001b[0m\n\u001b[1;32m     16\u001b[0m \u001b[0;32mfrom\u001b[0m \u001b[0;34m.\u001b[0m\u001b[0;34m.\u001b[0m\u001b[0m_config\u001b[0m \u001b[0;32mimport\u001b[0m \u001b[0mget_config\u001b[0m\u001b[0;34m\u001b[0m\u001b[0;34m\u001b[0m\u001b[0m\n\u001b[0;32m---> 17\u001b[0;31m \u001b[0;32mfrom\u001b[0m \u001b[0;34m.\u001b[0m\u001b[0mfixes\u001b[0m \u001b[0;32mimport\u001b[0m \u001b[0mparse_version\u001b[0m\u001b[0;34m\u001b[0m\u001b[0;34m\u001b[0m\u001b[0m\n\u001b[0m\u001b[1;32m     18\u001b[0m \u001b[0;34m\u001b[0m\u001b[0m\n\u001b[1;32m     19\u001b[0m \u001b[0m_NUMPY_NAMESPACE_NAMES\u001b[0m \u001b[0;34m=\u001b[0m \u001b[0;34m{\u001b[0m\u001b[0;34m\"numpy\"\u001b[0m\u001b[0;34m,\u001b[0m \u001b[0;34m\"array_api_compat.numpy\"\u001b[0m\u001b[0;34m}\u001b[0m\u001b[0;34m\u001b[0m\u001b[0;34m\u001b[0m\u001b[0m\n",
            "\u001b[0;32m/usr/local/lib/python3.11/dist-packages/sklearn/utils/fixes.py\u001b[0m in \u001b[0;36m<module>\u001b[0;34m\u001b[0m\n\u001b[1;32m     15\u001b[0m \u001b[0;32mimport\u001b[0m \u001b[0mscipy\u001b[0m\u001b[0;34m\u001b[0m\u001b[0;34m\u001b[0m\u001b[0m\n\u001b[1;32m     16\u001b[0m \u001b[0;32mimport\u001b[0m \u001b[0mscipy\u001b[0m\u001b[0;34m.\u001b[0m\u001b[0msparse\u001b[0m\u001b[0;34m.\u001b[0m\u001b[0mlinalg\u001b[0m\u001b[0;34m\u001b[0m\u001b[0;34m\u001b[0m\u001b[0m\n\u001b[0;32m---> 17\u001b[0;31m \u001b[0;32mimport\u001b[0m \u001b[0mscipy\u001b[0m\u001b[0;34m.\u001b[0m\u001b[0mstats\u001b[0m\u001b[0;34m\u001b[0m\u001b[0;34m\u001b[0m\u001b[0m\n\u001b[0m\u001b[1;32m     18\u001b[0m \u001b[0;34m\u001b[0m\u001b[0m\n\u001b[1;32m     19\u001b[0m \u001b[0;32mtry\u001b[0m\u001b[0;34m:\u001b[0m\u001b[0;34m\u001b[0m\u001b[0;34m\u001b[0m\u001b[0m\n",
            "\u001b[0;32m/usr/local/lib/python3.11/dist-packages/scipy/stats/__init__.py\u001b[0m in \u001b[0;36m<module>\u001b[0;34m\u001b[0m\n\u001b[1;32m    608\u001b[0m from ._warnings_errors import (ConstantInputWarning, NearConstantInputWarning,\n\u001b[1;32m    609\u001b[0m                                DegenerateDataWarning, FitError)\n\u001b[0;32m--> 610\u001b[0;31m \u001b[0;32mfrom\u001b[0m \u001b[0;34m.\u001b[0m\u001b[0m_stats_py\u001b[0m \u001b[0;32mimport\u001b[0m \u001b[0;34m*\u001b[0m\u001b[0;34m\u001b[0m\u001b[0;34m\u001b[0m\u001b[0m\n\u001b[0m\u001b[1;32m    611\u001b[0m \u001b[0;32mfrom\u001b[0m \u001b[0;34m.\u001b[0m\u001b[0m_variation\u001b[0m \u001b[0;32mimport\u001b[0m \u001b[0mvariation\u001b[0m\u001b[0;34m\u001b[0m\u001b[0;34m\u001b[0m\u001b[0m\n\u001b[1;32m    612\u001b[0m \u001b[0;32mfrom\u001b[0m \u001b[0;34m.\u001b[0m\u001b[0mdistributions\u001b[0m \u001b[0;32mimport\u001b[0m \u001b[0;34m*\u001b[0m\u001b[0;34m\u001b[0m\u001b[0;34m\u001b[0m\u001b[0m\n",
            "\u001b[0;32m/usr/local/lib/python3.11/dist-packages/scipy/stats/_stats_py.py\u001b[0m in \u001b[0;36m<module>\u001b[0;34m\u001b[0m\n\u001b[1;32m     38\u001b[0m \u001b[0;32mfrom\u001b[0m \u001b[0mscipy\u001b[0m\u001b[0;34m.\u001b[0m\u001b[0mspatial\u001b[0m \u001b[0;32mimport\u001b[0m \u001b[0mdistance_matrix\u001b[0m\u001b[0;34m\u001b[0m\u001b[0;34m\u001b[0m\u001b[0m\n\u001b[1;32m     39\u001b[0m \u001b[0;34m\u001b[0m\u001b[0m\n\u001b[0;32m---> 40\u001b[0;31m \u001b[0;32mfrom\u001b[0m \u001b[0mscipy\u001b[0m\u001b[0;34m.\u001b[0m\u001b[0moptimize\u001b[0m \u001b[0;32mimport\u001b[0m \u001b[0mmilp\u001b[0m\u001b[0;34m,\u001b[0m \u001b[0mLinearConstraint\u001b[0m\u001b[0;34m\u001b[0m\u001b[0;34m\u001b[0m\u001b[0m\n\u001b[0m\u001b[1;32m     41\u001b[0m from scipy._lib._util import (check_random_state, _get_nan,\n\u001b[1;32m     42\u001b[0m                               \u001b[0m_rename_parameter\u001b[0m\u001b[0;34m,\u001b[0m \u001b[0m_contains_nan\u001b[0m\u001b[0;34m,\u001b[0m\u001b[0;34m\u001b[0m\u001b[0;34m\u001b[0m\u001b[0m\n",
            "\u001b[0;32m/usr/local/lib/python3.11/dist-packages/scipy/optimize/__init__.py\u001b[0m in \u001b[0;36m<module>\u001b[0;34m\u001b[0m\n\u001b[1;32m    434\u001b[0m                            Bounds)\n\u001b[1;32m    435\u001b[0m \u001b[0;32mfrom\u001b[0m \u001b[0;34m.\u001b[0m\u001b[0m_hessian_update_strategy\u001b[0m \u001b[0;32mimport\u001b[0m \u001b[0mHessianUpdateStrategy\u001b[0m\u001b[0;34m,\u001b[0m \u001b[0mBFGS\u001b[0m\u001b[0;34m,\u001b[0m \u001b[0mSR1\u001b[0m\u001b[0;34m\u001b[0m\u001b[0;34m\u001b[0m\u001b[0m\n\u001b[0;32m--> 436\u001b[0;31m \u001b[0;32mfrom\u001b[0m \u001b[0;34m.\u001b[0m\u001b[0m_shgo\u001b[0m \u001b[0;32mimport\u001b[0m \u001b[0mshgo\u001b[0m\u001b[0;34m\u001b[0m\u001b[0;34m\u001b[0m\u001b[0m\n\u001b[0m\u001b[1;32m    437\u001b[0m \u001b[0;32mfrom\u001b[0m \u001b[0;34m.\u001b[0m\u001b[0m_dual_annealing\u001b[0m \u001b[0;32mimport\u001b[0m \u001b[0mdual_annealing\u001b[0m\u001b[0;34m\u001b[0m\u001b[0;34m\u001b[0m\u001b[0m\n\u001b[1;32m    438\u001b[0m \u001b[0;32mfrom\u001b[0m \u001b[0;34m.\u001b[0m\u001b[0m_qap\u001b[0m \u001b[0;32mimport\u001b[0m \u001b[0mquadratic_assignment\u001b[0m\u001b[0;34m\u001b[0m\u001b[0;34m\u001b[0m\u001b[0m\n",
            "\u001b[0;32m/usr/local/lib/python3.11/dist-packages/scipy/optimize/_shgo.py\u001b[0m in \u001b[0;36m<module>\u001b[0;34m\u001b[0m\n\u001b[1;32m     15\u001b[0m \u001b[0;32mfrom\u001b[0m \u001b[0mscipy\u001b[0m\u001b[0;34m.\u001b[0m\u001b[0m_lib\u001b[0m\u001b[0;34m.\u001b[0m\u001b[0m_util\u001b[0m \u001b[0;32mimport\u001b[0m \u001b[0m_FunctionWrapper\u001b[0m\u001b[0;34m\u001b[0m\u001b[0;34m\u001b[0m\u001b[0m\n\u001b[1;32m     16\u001b[0m \u001b[0;34m\u001b[0m\u001b[0m\n\u001b[0;32m---> 17\u001b[0;31m \u001b[0;32mfrom\u001b[0m \u001b[0mscipy\u001b[0m\u001b[0;34m.\u001b[0m\u001b[0moptimize\u001b[0m\u001b[0;34m.\u001b[0m\u001b[0m_shgo_lib\u001b[0m\u001b[0;34m.\u001b[0m\u001b[0m_complex\u001b[0m \u001b[0;32mimport\u001b[0m \u001b[0mComplex\u001b[0m\u001b[0;34m\u001b[0m\u001b[0;34m\u001b[0m\u001b[0m\n\u001b[0m\u001b[1;32m     18\u001b[0m \u001b[0;34m\u001b[0m\u001b[0m\n\u001b[1;32m     19\u001b[0m \u001b[0m__all__\u001b[0m \u001b[0;34m=\u001b[0m \u001b[0;34m[\u001b[0m\u001b[0;34m'shgo'\u001b[0m\u001b[0;34m]\u001b[0m\u001b[0;34m\u001b[0m\u001b[0;34m\u001b[0m\u001b[0m\n",
            "\u001b[0;31mKeyboardInterrupt\u001b[0m: "
          ]
        }
      ]
    },
    {
      "cell_type": "markdown",
      "source": [
        "**Section 6: Train Supervised Models on NLP-Based Features**"
      ],
      "metadata": {
        "id": "8QNU58vJx_9A"
      }
    },
    {
      "cell_type": "code",
      "source": [
        "from sklearn.model_selection import train_test_split\n",
        "\n",
        "# Extract features and labels\n",
        "X = X_tfidf\n",
        "y = df['label']\n",
        "\n",
        "# Split the data (80% train, 20% test)\n",
        "X_train, X_test, y_train, y_test = train_test_split(X, y, test_size=0.2, random_state=42)\n",
        "\n",
        "# Print the training and test set sizes\n",
        "print(f\"Training set size: {X_train.shape}, Test set size: {X_test.shape}\")\n",
        "\n",
        "# Show class distribution in both training and test sets\n",
        "print(\"\\nClass distribution in training set:\")\n",
        "print(y_train.value_counts())\n",
        "\n",
        "print(\"\\nClass distribution in test set:\")\n",
        "print(y_test.value_counts())\n",
        "\n",
        "# Preview a few samples from the training set\n",
        "print(\"\\nPreview of first 5 samples in the training set:\")\n",
        "print(X_train[:5].toarray())  # Convert sparse matrix to dense for display\n",
        "print(y_train[:5])\n",
        "\n",
        "# Preview a few samples from the test set\n",
        "print(\"\\nPreview of first 5 samples in the test set:\")\n",
        "print(X_test[:5].toarray())  # Convert sparse matrix to dense for display\n",
        "print(y_test[:5])\n"
      ],
      "metadata": {
        "colab": {
          "base_uri": "https://localhost:8080/"
        },
        "id": "dk1tnbloyEBM",
        "outputId": "707bc368-85ce-46fb-86c1-b0da5d55d804",
        "collapsed": true
      },
      "execution_count": null,
      "outputs": [
        {
          "output_type": "stream",
          "name": "stdout",
          "text": [
            "Training set size: (1714, 5000), Test set size: (429, 5000)\n",
            "\n",
            "Class distribution in training set:\n",
            "label\n",
            "0    1006\n",
            "1     708\n",
            "Name: count, dtype: int64\n",
            "\n",
            "Class distribution in test set:\n",
            "label\n",
            "0    244\n",
            "1    185\n",
            "Name: count, dtype: int64\n",
            "\n",
            "Preview of first 5 samples in the training set:\n",
            "[[0.         0.         0.         ... 0.         0.         0.        ]\n",
            " [0.         0.         0.         ... 0.         0.         0.        ]\n",
            " [0.         0.         0.         ... 0.         0.         0.        ]\n",
            " [0.         0.         0.         ... 0.         0.03944791 0.        ]\n",
            " [0.         0.         0.         ... 0.         0.         0.        ]]\n",
            "905     0\n",
            "1699    1\n",
            "2101    1\n",
            "305     0\n",
            "986     0\n",
            "Name: label, dtype: int64\n",
            "\n",
            "Preview of first 5 samples in the test set:\n",
            "[[0. 0. 0. ... 0. 0. 0.]\n",
            " [0. 0. 0. ... 0. 0. 0.]\n",
            " [0. 0. 0. ... 0. 0. 0.]\n",
            " [0. 0. 0. ... 0. 0. 0.]\n",
            " [0. 0. 0. ... 0. 0. 0.]]\n",
            "350     0\n",
            "2056    1\n",
            "686     0\n",
            "602     0\n",
            "571     0\n",
            "Name: label, dtype: int64\n"
          ]
        }
      ]
    },
    {
      "cell_type": "markdown",
      "source": [
        "**Sections 7: Train Logistic Regression Model**"
      ],
      "metadata": {
        "id": "3zf0Iy7xyGbi"
      }
    },
    {
      "cell_type": "code",
      "source": [
        "from sklearn.linear_model import LogisticRegression\n",
        "from sklearn.metrics import accuracy_score, classification_report\n",
        "\n",
        "# Initialize and train the model\n",
        "model = LogisticRegression()\n",
        "model.fit(X_train, y_train)\n",
        "\n",
        "# Predict on test set\n",
        "y_pred = model.predict(X_test)\n",
        "\n",
        "# Evaluate performance\n",
        "accuracy = accuracy_score(y_test, y_pred)\n",
        "print(f\"Accuracy: {accuracy:.4f}\")\n",
        "print(\"Classification Report:\\n\", classification_report(y_test, y_pred))\n"
      ],
      "metadata": {
        "colab": {
          "base_uri": "https://localhost:8080/"
        },
        "id": "vwIxqKQXyXKm",
        "outputId": "1e5a79a8-5902-41f4-ab65-477aebbff25c"
      },
      "execution_count": null,
      "outputs": [
        {
          "output_type": "stream",
          "name": "stdout",
          "text": [
            "Accuracy: 0.9907\n",
            "Classification Report:\n",
            "               precision    recall  f1-score   support\n",
            "\n",
            "           0       1.00      0.98      0.99       244\n",
            "           1       0.98      1.00      0.99       185\n",
            "\n",
            "    accuracy                           0.99       429\n",
            "   macro avg       0.99      0.99      0.99       429\n",
            "weighted avg       0.99      0.99      0.99       429\n",
            "\n"
          ]
        }
      ]
    },
    {
      "cell_type": "code",
      "source": [
        "from sklearn.svm import SVC\n",
        "from sklearn.ensemble import RandomForestClassifier\n",
        "from sklearn.naive_bayes import MultinomialNB\n",
        "from sklearn.metrics import accuracy_score, classification_report\n",
        "\n",
        "# Initialize models\n",
        "svm_model = SVC(kernel='linear')\n",
        "rf_model = RandomForestClassifier(n_estimators=100, random_state=42)\n",
        "nb_model = MultinomialNB()\n",
        "\n",
        "# Train models\n",
        "svm_model.fit(X_train, y_train)\n",
        "rf_model.fit(X_train, y_train)\n",
        "nb_model.fit(X_train, y_train)\n",
        "\n",
        "# Predict on test set\n",
        "y_pred_svm = svm_model.predict(X_test)\n",
        "y_pred_rf = rf_model.predict(X_test)\n",
        "y_pred_nb = nb_model.predict(X_test)\n",
        "\n",
        "# Evaluate models\n",
        "print(\"SVM Model Performance\")\n",
        "print(f\"Accuracy: {accuracy_score(y_test, y_pred_svm):.4f}\")\n",
        "print(classification_report(y_test, y_pred_svm))\n",
        "\n",
        "print(\"\\nRandom Forest Model Performance\")\n",
        "print(f\"Accuracy: {accuracy_score(y_test, y_pred_rf):.4f}\")\n",
        "print(classification_report(y_test, y_pred_rf))\n",
        "\n",
        "print(\"\\nNaive Bayes Model Performance\")\n",
        "print(f\"Accuracy: {accuracy_score(y_test, y_pred_nb):.4f}\")\n",
        "print(classification_report(y_test, y_pred_nb))"
      ],
      "metadata": {
        "colab": {
          "base_uri": "https://localhost:8080/"
        },
        "id": "QGKFtmxIYq6p",
        "outputId": "d521cf4d-0672-4c73-c9f9-73022f124d3a"
      },
      "execution_count": null,
      "outputs": [
        {
          "output_type": "stream",
          "name": "stdout",
          "text": [
            "SVM Model Performance\n",
            "Accuracy: 0.9953\n",
            "              precision    recall  f1-score   support\n",
            "\n",
            "           0       1.00      0.99      1.00       244\n",
            "           1       0.99      1.00      0.99       185\n",
            "\n",
            "    accuracy                           1.00       429\n",
            "   macro avg       0.99      1.00      1.00       429\n",
            "weighted avg       1.00      1.00      1.00       429\n",
            "\n",
            "\n",
            "Random Forest Model Performance\n",
            "Accuracy: 0.9953\n",
            "              precision    recall  f1-score   support\n",
            "\n",
            "           0       1.00      0.99      1.00       244\n",
            "           1       0.99      1.00      0.99       185\n",
            "\n",
            "    accuracy                           1.00       429\n",
            "   macro avg       0.99      1.00      1.00       429\n",
            "weighted avg       1.00      1.00      1.00       429\n",
            "\n",
            "\n",
            "Naive Bayes Model Performance\n",
            "Accuracy: 0.7809\n",
            "              precision    recall  f1-score   support\n",
            "\n",
            "           0       0.72      1.00      0.84       244\n",
            "           1       0.99      0.50      0.66       185\n",
            "\n",
            "    accuracy                           0.78       429\n",
            "   macro avg       0.86      0.75      0.75       429\n",
            "weighted avg       0.84      0.78      0.76       429\n",
            "\n"
          ]
        }
      ]
    },
    {
      "cell_type": "markdown",
      "source": [
        "**Sections 8 : Hyperparameter training**"
      ],
      "metadata": {
        "id": "jomyg9Gpyv3O"
      }
    },
    {
      "cell_type": "code",
      "source": [
        "from sklearn.model_selection import GridSearchCV\n",
        "\n",
        "# Define hyperparameter grid for SVM\n",
        "param_grid_svm = {\n",
        "    'C': [0.1, 1, 10],  # Regularization parameter\n",
        "    'kernel': ['linear', 'rbf'],  # Different kernel options\n",
        "    'gamma': ['scale', 'auto']  # Only used for 'rbf' kernel\n",
        "}\n",
        "\n",
        "# Initialize GridSearchCV for SVM\n",
        "grid_search_svm = GridSearchCV(SVC(), param_grid_svm, cv=5, scoring='accuracy', n_jobs=-1)\n",
        "\n",
        "# Fit the model\n",
        "grid_search_svm.fit(X_train, y_train)\n",
        "\n",
        "# Best parameters and accuracy\n",
        "print(f\"Best Parameters for SVM: {grid_search_svm.best_params_}\")\n",
        "print(f\"Best Accuracy for SVM: {grid_search_svm.best_score_:.4f}\")\n",
        "\n",
        "# Use the best SVM model\n",
        "best_model = grid_search_svm.best_estimator_\n"
      ],
      "metadata": {
        "colab": {
          "base_uri": "https://localhost:8080/"
        },
        "id": "0ddPmdC1y5Cz",
        "outputId": "7fd7013b-1bf6-4b3a-ad14-9ea50d610f02"
      },
      "execution_count": null,
      "outputs": [
        {
          "output_type": "stream",
          "name": "stdout",
          "text": [
            "Best Parameters for SVM: {'C': 1, 'gamma': 'scale', 'kernel': 'rbf'}\n",
            "Best Accuracy for SVM: 0.9959\n"
          ]
        }
      ]
    },
    {
      "cell_type": "markdown",
      "source": [
        "**Sections 9 : Model Evaluation using Different Metrics**"
      ],
      "metadata": {
        "id": "DQ_6NDc9zOQS"
      }
    },
    {
      "cell_type": "code",
      "source": [
        "from sklearn.metrics import confusion_matrix, precision_score, recall_score, f1_score\n",
        "import seaborn as sns\n",
        "import matplotlib.pyplot as plt\n",
        "\n",
        "best_model = svm_model\n",
        "\n",
        "# Predictions using the best model\n",
        "y_pred_best = best_model.predict(X_test)\n",
        "\n",
        "# Compute evaluation metrics\n",
        "conf_matrix = confusion_matrix(y_test, y_pred_best)\n",
        "precision = precision_score(y_test, y_pred_best)\n",
        "recall = recall_score(y_test, y_pred_best)\n",
        "f1 = f1_score(y_test, y_pred_best)\n",
        "\n",
        "# Display results\n",
        "print(f\"Precision: {precision:.4f}\")\n",
        "print(f\"Recall: {recall:.4f}\")\n",
        "print(f\"F1 Score: {f1:.4f}\")\n",
        "\n",
        "# Plot confusion matrix\n",
        "plt.figure(figsize=(6, 4))\n",
        "sns.heatmap(conf_matrix, annot=True, fmt='d', cmap='Blues', xticklabels=['True News', 'Fake News'], yticklabels=['True News', 'Fake News'])\n",
        "plt.xlabel(\"Predicted\")\n",
        "plt.ylabel(\"Actual\")\n",
        "plt.title(\"Confusion Matrix\")\n",
        "plt.show()\n"
      ],
      "metadata": {
        "colab": {
          "base_uri": "https://localhost:8080/",
          "height": 462
        },
        "id": "tH33PQYFzJ9s",
        "outputId": "c6bb08fc-1791-42b7-b3cf-eab448ffecf7",
        "collapsed": true
      },
      "execution_count": null,
      "outputs": [
        {
          "output_type": "stream",
          "name": "stdout",
          "text": [
            "Precision: 0.9893\n",
            "Recall: 1.0000\n",
            "F1 Score: 0.9946\n"
          ]
        },
        {
          "output_type": "display_data",
          "data": {
            "text/plain": [
              "<Figure size 600x400 with 2 Axes>"
            ],
            "image/png": "[encoded data removed]"
          },
          "metadata": {}
        }
      ]
    },
    {
      "cell_type": "markdown",
      "source": [
        "**Section 10: Save and Load the Model**"
      ],
      "metadata": {
        "id": "7JSBv8NbzUG0"
      }
    },
    {
      "cell_type": "code",
      "source": [
        "import pickle\n",
        "\n",
        "# Save the model\n",
        "with open(\"fake_news_model.pkl\", \"wb\") as model_file:\n",
        "    pickle.dump(best_model, model_file)\n",
        "\n",
        "# Save the TF-IDF vectorizer\n",
        "with open(\"tfidf_vectorizer.pkl\", \"wb\") as vectorizer_file:\n",
        "    pickle.dump(tfidf_vectorizer, vectorizer_file)\n",
        "\n",
        "print(\"Model and vectorizer saved successfully!\")\n"
      ],
      "metadata": {
        "id": "-5SFeePozQ-D",
        "colab": {
          "base_uri": "https://localhost:8080/"
        },
        "collapsed": true,
        "outputId": "392b44e6-5060-4ee1-ea7e-b34c3d995a07"
      },
      "execution_count": null,
      "outputs": [
        {
          "output_type": "stream",
          "name": "stdout",
          "text": [
            "Model and vectorizer saved successfully!\n"
          ]
        }
      ]
    },
    {
      "cell_type": "code",
      "source": [
        "import joblib\n",
        "\n",
        "# Save the trained model and vectorizer\n",
        "joblib.dump(model, 'text_classification_model.pkl')\n",
        "joblib.dump(tfidf_vectorizer, 'tfidf_vectorizer.pkl')\n"
      ],
      "metadata": {
        "colab": {
          "base_uri": "https://localhost:8080/"
        },
        "collapsed": true,
        "id": "mb5d6v6uSHdR",
        "outputId": "13fb9505-9d60-41d1-d508-b98bcc6f045f"
      },
      "execution_count": null,
      "outputs": [
        {
          "output_type": "execute_result",
          "data": {
            "text/plain": [
              "['tfidf_vectorizer.pkl']"
            ]
          },
          "metadata": {},
          "execution_count": 50
        }
      ]
    },
    {
      "cell_type": "markdown",
      "source": [
        "**Section 11: Save the Model and Make Predictions**"
      ],
      "metadata": {
        "id": "ei0IqijEzX6b"
      }
    },
    {
      "cell_type": "code",
      "source": [
        "# Load the saved model and vectorizer\n",
        "loaded_model = joblib.load('text_classification_model.pkl')\n",
        "loaded_vectorizer = joblib.load('tfidf_vectorizer.pkl')\n",
        "\n",
        "def predict_news(model, vectorizer):\n",
        "    # Get user input\n",
        "    news_text = input(\"Enter a news article in Hindi: \")\n",
        "\n",
        "    # Preprocess the text\n",
        "    cleaned_news = clean_text(news_text)\n",
        "\n",
        "    # Convert to TF-IDF\n",
        "    transformed_news = vectorizer.transform([cleaned_news])\n",
        "\n",
        "    # Predict\n",
        "    prediction = model.predict(transformed_news)[0]\n",
        "\n",
        "    # Print the result\n",
        "    result = \"🟥 Fake News\" if prediction == 1 else \"🟩 Real News\"\n",
        "    print(f\"\\nPrediction: {result}\")\n",
        "\n",
        "# Call the function for user input\n",
        "predict_news(loaded_model, loaded_vectorizer)\n"
      ],
      "metadata": {
        "colab": {
          "base_uri": "https://localhost:8080/"
        },
        "id": "wrldBnOHBrVG",
        "outputId": "29fbacf7-a1db-40a8-d48f-154b4b9e82ea"
      },
      "execution_count": null,
      "outputs": [
        {
          "output_type": "stream",
          "name": "stdout",
          "text": [
            "Enter a news article in Hindi: संयुक्त राष्ट्र ने सूडान में मानवीय संकट पर चेतावनी दी, संघर्ष के कारण लाखों लोग विस्थापित।\n",
            "\n",
            "Prediction: 🟩 Real News\n"
          ]
        }
      ]
    },
    {
      "cell_type": "code",
      "source": [
        "# Load the saved model and vectorizer\n",
        "loaded_model = joblib.load('text_classification_model.pkl')\n",
        "loaded_vectorizer = joblib.load('tfidf_vectorizer.pkl')\n",
        "\n",
        "def predict_news(model, vectorizer):\n",
        "    # Get user input\n",
        "    news_text = input(\"Enter a news article in Hindi: \")\n",
        "\n",
        "    # Preprocess the text\n",
        "    cleaned_news = clean_text(news_text)\n",
        "\n",
        "    # Convert to TF-IDF\n",
        "    transformed_news = vectorizer.transform([cleaned_news])\n",
        "\n",
        "    # Predict\n",
        "    prediction = model.predict(transformed_news)[0]\n",
        "\n",
        "    # Print the result\n",
        "    result = \"🟥 Fake News\" if prediction == 1 else \"🟩 Real News\"\n",
        "    print(f\"\\nPrediction: {result}\")\n",
        "\n",
        "# Call the function for user input\n",
        "predict_news(loaded_model, loaded_vectorizer)\n"
      ],
      "metadata": {
        "id": "giBuf_FizclM",
        "outputId": "f543b5d7-b207-4ede-f791-3f944acff6ce",
        "colab": {
          "base_uri": "https://localhost:8080/"
        },
        "collapsed": true
      },
      "execution_count": null,
      "outputs": [
        {
          "output_type": "stream",
          "name": "stdout",
          "text": [
            "Enter a news article in Hindi: \"विपक्षी कांग्रेस पार्टी ने सरकार से स्थिति स्पष्ट करने को कहा है, दूसरी ओर सरकार का कहना है कि स्थिति पर उसकी नज़र है.\"\n",
            "\n",
            "Prediction: 🟥 Fake News\n"
          ]
        }
      ]
    }
  ]
}